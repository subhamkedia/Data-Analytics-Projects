{
 "cells": [
  {
   "cell_type": "code",
   "execution_count": 2,
   "metadata": {
    "collapsed": true
   },
   "outputs": [],
   "source": [
    "import os\n",
    "import sys\n",
    "import scipy as sp\n",
    "import pandas as pd # dataframes\n",
    "import numpy as np # algebra & calculus\n",
    "\n",
    "import matplotlib.pyplot as plt # plotting\n",
    "import seaborn as sns # plotting\n",
    "\n",
    "from functools import partial # to reduce df memory consumption by applying to_numeric\n",
    "\n",
    "import sklearn \n",
    "# import xgboost as xgb\n",
    "\n",
    "color = sns.color_palette() # adjusting plotting style\n",
    "import warnings\n",
    "warnings.filterwarnings('ignore') # silence annoying warnings\n",
    "\n",
    "%matplotlib inline\n"
   ]
  },
  {
   "cell_type": "code",
   "execution_count": 3,
   "metadata": {},
   "outputs": [
    {
     "data": {
      "text/html": [
       "<div>\n",
       "<style>\n",
       "    .dataframe thead tr:only-child th {\n",
       "        text-align: right;\n",
       "    }\n",
       "\n",
       "    .dataframe thead th {\n",
       "        text-align: left;\n",
       "    }\n",
       "\n",
       "    .dataframe tbody tr th {\n",
       "        vertical-align: top;\n",
       "    }\n",
       "</style>\n",
       "<table border=\"1\" class=\"dataframe\">\n",
       "  <thead>\n",
       "    <tr style=\"text-align: right;\">\n",
       "      <th></th>\n",
       "      <th>User country</th>\n",
       "      <th>No. of reviews</th>\n",
       "      <th>No. of hotel reviews</th>\n",
       "      <th>Helpful votes</th>\n",
       "      <th>Score</th>\n",
       "      <th>Period of stay</th>\n",
       "      <th>Traveler type</th>\n",
       "      <th>Pool</th>\n",
       "      <th>Gym</th>\n",
       "      <th>Tennis court</th>\n",
       "      <th>Spa</th>\n",
       "      <th>Casino</th>\n",
       "      <th>Free internet</th>\n",
       "      <th>Hotel name</th>\n",
       "      <th>Hotel stars</th>\n",
       "      <th>No. of rooms</th>\n",
       "      <th>User continent</th>\n",
       "      <th>Member years</th>\n",
       "      <th>Review month</th>\n",
       "      <th>Review weekday</th>\n",
       "    </tr>\n",
       "  </thead>\n",
       "  <tbody>\n",
       "    <tr>\n",
       "      <th>0</th>\n",
       "      <td>USA</td>\n",
       "      <td>11</td>\n",
       "      <td>4</td>\n",
       "      <td>13</td>\n",
       "      <td>5</td>\n",
       "      <td>Dec-Feb</td>\n",
       "      <td>Friends</td>\n",
       "      <td>NO</td>\n",
       "      <td>YES</td>\n",
       "      <td>NO</td>\n",
       "      <td>NO</td>\n",
       "      <td>YES</td>\n",
       "      <td>YES</td>\n",
       "      <td>Circus Circus Hotel &amp; Casino Las Vegas</td>\n",
       "      <td>3</td>\n",
       "      <td>3773.0</td>\n",
       "      <td>North America</td>\n",
       "      <td>9.0</td>\n",
       "      <td>January</td>\n",
       "      <td>Thursday</td>\n",
       "    </tr>\n",
       "    <tr>\n",
       "      <th>1</th>\n",
       "      <td>USA</td>\n",
       "      <td>119</td>\n",
       "      <td>21</td>\n",
       "      <td>75</td>\n",
       "      <td>3</td>\n",
       "      <td>Dec-Feb</td>\n",
       "      <td>Business</td>\n",
       "      <td>NO</td>\n",
       "      <td>YES</td>\n",
       "      <td>NO</td>\n",
       "      <td>NO</td>\n",
       "      <td>YES</td>\n",
       "      <td>YES</td>\n",
       "      <td>Circus Circus Hotel &amp; Casino Las Vegas</td>\n",
       "      <td>3</td>\n",
       "      <td>3773.0</td>\n",
       "      <td>North America</td>\n",
       "      <td>3.0</td>\n",
       "      <td>January</td>\n",
       "      <td>Friday</td>\n",
       "    </tr>\n",
       "    <tr>\n",
       "      <th>2</th>\n",
       "      <td>USA</td>\n",
       "      <td>36</td>\n",
       "      <td>9</td>\n",
       "      <td>25</td>\n",
       "      <td>5</td>\n",
       "      <td>Mar-May</td>\n",
       "      <td>Families</td>\n",
       "      <td>NO</td>\n",
       "      <td>YES</td>\n",
       "      <td>NO</td>\n",
       "      <td>NO</td>\n",
       "      <td>YES</td>\n",
       "      <td>YES</td>\n",
       "      <td>Circus Circus Hotel &amp; Casino Las Vegas</td>\n",
       "      <td>3</td>\n",
       "      <td>3773.0</td>\n",
       "      <td>North America</td>\n",
       "      <td>2.0</td>\n",
       "      <td>February</td>\n",
       "      <td>Saturday</td>\n",
       "    </tr>\n",
       "    <tr>\n",
       "      <th>3</th>\n",
       "      <td>UK</td>\n",
       "      <td>14</td>\n",
       "      <td>7</td>\n",
       "      <td>14</td>\n",
       "      <td>4</td>\n",
       "      <td>Mar-May</td>\n",
       "      <td>Friends</td>\n",
       "      <td>NO</td>\n",
       "      <td>YES</td>\n",
       "      <td>NO</td>\n",
       "      <td>NO</td>\n",
       "      <td>YES</td>\n",
       "      <td>YES</td>\n",
       "      <td>Circus Circus Hotel &amp; Casino Las Vegas</td>\n",
       "      <td>3</td>\n",
       "      <td>3773.0</td>\n",
       "      <td>Europe</td>\n",
       "      <td>6.0</td>\n",
       "      <td>February</td>\n",
       "      <td>Friday</td>\n",
       "    </tr>\n",
       "    <tr>\n",
       "      <th>4</th>\n",
       "      <td>Canada</td>\n",
       "      <td>5</td>\n",
       "      <td>5</td>\n",
       "      <td>2</td>\n",
       "      <td>4</td>\n",
       "      <td>Mar-May</td>\n",
       "      <td>Solo</td>\n",
       "      <td>NO</td>\n",
       "      <td>YES</td>\n",
       "      <td>NO</td>\n",
       "      <td>NO</td>\n",
       "      <td>YES</td>\n",
       "      <td>YES</td>\n",
       "      <td>Circus Circus Hotel &amp; Casino Las Vegas</td>\n",
       "      <td>3</td>\n",
       "      <td>3773.0</td>\n",
       "      <td>North America</td>\n",
       "      <td>7.0</td>\n",
       "      <td>March</td>\n",
       "      <td>Tuesday</td>\n",
       "    </tr>\n",
       "  </tbody>\n",
       "</table>\n",
       "</div>"
      ],
      "text/plain": [
       "  User country  No. of reviews  No. of hotel reviews  Helpful votes  Score  \\\n",
       "0          USA              11                     4             13      5   \n",
       "1          USA             119                    21             75      3   \n",
       "2          USA              36                     9             25      5   \n",
       "3           UK              14                     7             14      4   \n",
       "4       Canada               5                     5              2      4   \n",
       "\n",
       "  Period of stay Traveler type Pool  Gym Tennis court Spa Casino  \\\n",
       "0        Dec-Feb       Friends   NO  YES           NO  NO    YES   \n",
       "1        Dec-Feb      Business   NO  YES           NO  NO    YES   \n",
       "2        Mar-May      Families   NO  YES           NO  NO    YES   \n",
       "3        Mar-May       Friends   NO  YES           NO  NO    YES   \n",
       "4        Mar-May          Solo   NO  YES           NO  NO    YES   \n",
       "\n",
       "  Free internet                              Hotel name  Hotel stars  \\\n",
       "0           YES  Circus Circus Hotel & Casino Las Vegas            3   \n",
       "1           YES  Circus Circus Hotel & Casino Las Vegas            3   \n",
       "2           YES  Circus Circus Hotel & Casino Las Vegas            3   \n",
       "3           YES  Circus Circus Hotel & Casino Las Vegas            3   \n",
       "4           YES  Circus Circus Hotel & Casino Las Vegas            3   \n",
       "\n",
       "   No. of rooms User continent  Member years Review month Review weekday  \n",
       "0        3773.0  North America           9.0      January       Thursday  \n",
       "1        3773.0  North America           3.0      January         Friday  \n",
       "2        3773.0  North America           2.0     February       Saturday  \n",
       "3        3773.0         Europe           6.0     February         Friday  \n",
       "4        3773.0  North America           7.0        March        Tuesday  "
      ]
     },
     "execution_count": 3,
     "metadata": {},
     "output_type": "execute_result"
    }
   ],
   "source": [
    "data = pd.read_csv('CBS.csv')\n",
    "data.head()\n"
   ]
  },
  {
   "cell_type": "code",
   "execution_count": 4,
   "metadata": {},
   "outputs": [
    {
     "data": {
      "text/plain": [
       "<matplotlib.axes._subplots.AxesSubplot at 0x1166630f0>"
      ]
     },
     "execution_count": 4,
     "metadata": {},
     "output_type": "execute_result"
    },
    {
     "data": {
      "image/png": "[encoded data removed]",
      "text/plain": [
       "<matplotlib.figure.Figure at 0x11665ab38>"
      ]
     },
     "metadata": {},
     "output_type": "display_data"
    }
   ],
   "source": [
    "#######################################################################################################\n",
    "####################################   EXPLORATORY ANALYSIS ################################\n",
    "\n",
    "###  1. HOW DOES REVIEWING ON A WEEKEND MATTERS COMPARED TO REVIEWING ON WEEKDAY ######\n",
    "\n",
    "weekend = data[(data['Review weekday'] == 'Saturday') | (data['Review weekday'] == 'Sunday')]\n",
    "weekend = (weekend['Score'].value_counts())/weekend.shape[0]\n",
    "weekday = data[~(data['Review weekday'] == 'Saturday') & ~(data['Review weekday'] == 'Sunday')]\n",
    "weekday = (weekday['Score'].value_counts())/weekday.shape[0]\n",
    "\n",
    "df = pd.DataFrame()\n",
    "df['weekend'] = weekend\n",
    "df['weekday'] = weekday\n",
    "df.plot.bar(figsize=(15,8),title='Frequency of occuring of particular score(in percentage)', fontsize=15)\n",
    "\n",
    "########### MOTIVATION WAS TO CHECK IF PEOPLE WHO REVIEW ON A WEEKEND GIVE HIGHER RATING OR NOT.\n",
    "########### DIDN'T SEE SIGNIFICANT EVIDENCE TO SUPPORT OUR HYPOTHESIS. 32\n",
    "#### CONCLUSION:  THUS, RATING IN GENERAL DOESN'TDEPEND ON THE DAY IT WAS GIVEN. "
   ]
  },
  {
   "cell_type": "code",
   "execution_count": 5,
   "metadata": {},
   "outputs": [
    {
     "name": "stdout",
     "output_type": "stream",
     "text": [
      "    amateur   fresh    pro    rookie\n",
      "5  0.441341  0.5000  0.490  0.365591\n",
      "4  0.318436  0.1875  0.335  0.365591\n",
      "3  0.173184  0.1250  0.110  0.161290\n",
      "2  0.044693  0.1250  0.050  0.086022\n",
      "1  0.022346  0.0625  0.015  0.021505\n"
     ]
    },
    {
     "data": {
      "text/plain": [
       "<matplotlib.axes._subplots.AxesSubplot at 0x1168da5c0>"
      ]
     },
     "execution_count": 5,
     "metadata": {},
     "output_type": "execute_result"
    },
    {
     "data": {
      "image/png": "[encoded data removed]",
      "text/plain": [
       "<matplotlib.figure.Figure at 0x1168cc2e8>"
      ]
     },
     "metadata": {},
     "output_type": "display_data"
    }
   ],
   "source": [
    "###  1. DOES EXPERIENCED(USERS WITH MORE MEMBER YEARS) HAS ANY ROLE TO PLAY OR NOT? ########\n",
    "\n",
    "#### LET'S FIRST CLASSIFY THE AGE IN 4 CATEGORIES: \n",
    "#### 0 : FRESH JOIN\n",
    "#### 1-2 : ROOKIE\n",
    "#### 3-6 : AMATEUR\n",
    "#### >7 : PRO\n",
    "def user_exp(x):\n",
    "    if(x==0):\n",
    "        return \"fresh\"\n",
    "    elif(x==1 or x==2):\n",
    "        return \"rookie\"\n",
    "    elif(x>2 and x<=6):\n",
    "        return \"amateur\"\n",
    "    else:\n",
    "        return \"pro\"\n",
    "\n",
    "df = data.copy()\n",
    "df['User Exp'] = df['Member years'].apply(lambda x: user_exp(x))\n",
    "fresh, rookie = df[df['User Exp'] == 'fresh'], df[df['User Exp'] == 'rookie']\n",
    "amateur, pro = df[df['User Exp'] == 'amateur'], df[df['User Exp'] == 'pro']\n",
    "\n",
    "fresh = (fresh['Score'].value_counts())/fresh.shape[0]\n",
    "rookie = (rookie['Score'].value_counts())/rookie.shape[0]\n",
    "amateur = (amateur['Score'].value_counts())/amateur.shape[0]\n",
    "pro = (pro['Score'].value_counts())/pro.shape[0]\n",
    "\n",
    "df = pd.DataFrame({'fresh': fresh, 'rookie': rookie, 'amateur':amateur, 'pro':pro})\n",
    "print (df)\n",
    "df.plot.bar(figsize=(15,8),title='Frequency of Score', fontsize=15)\n",
    "\n",
    "#################################  FRESH CASE:   ############################################\n",
    "#### FOR FRESH CASE(WITH 0 MEMBER YEARS): WE CAN SEE THAT THESE MEMBERS TEND TO GIVE 5 STAR RATING THE MOST COMPARED\n",
    "#### TO OTHER GROUPS, ALSO FRESH HAS THE HIGHEST PERCENTAGE FOR RATING=5 AND RATING=1. THIS SHOWS FRESH'S \n",
    "#### HAVE A TREND OF CHOSING EITHER EXTREME OF THE SPECTRUM. \n",
    "\n",
    "\n",
    "######################## PRO CASE:  #######################3\n",
    "### USERS WITH MANY YEARS OF EXPERIENCE OFFERS THE LOWEST PERCENTAGE OF RATING=1 AND SECOND HIGHEST PERCENTAGE FOR\n",
    "### RATING=5. \n",
    "\n"
   ]
  },
  {
   "cell_type": "code",
   "execution_count": 11,
   "metadata": {},
   "outputs": [
    {
     "name": "stdout",
     "output_type": "stream",
     "text": [
      "<class 'pandas.core.groupby.DataFrameGroupBy'>\n",
      "     Africa      Asia  Europe  North America   Oceania  South America\n",
      "1  0.142857  0.068966    0.01       0.017241  0.029412            NaN\n",
      "2  0.142857  0.068966    0.06       0.073276       NaN            NaN\n",
      "3  0.142857  0.206897    0.16       0.150862  0.147059       0.166667\n",
      "4  0.285714  0.379310    0.34       0.288793  0.470588       0.333333\n",
      "5  0.285714  0.275862    0.43       0.469828  0.352941       0.500000\n"
     ]
    },
    {
     "data": {
      "text/plain": [
       "<matplotlib.axes._subplots.AxesSubplot at 0x117b23b70>"
      ]
     },
     "execution_count": 11,
     "metadata": {},
     "output_type": "execute_result"
    },
    {
     "data": {
      "image/png": "[encoded data removed]",
      "text/plain": [
       "<matplotlib.figure.Figure at 0x117d2df60>"
      ]
     },
     "metadata": {},
     "output_type": "display_data"
    }
   ],
   "source": [
    "###  1. DOES USER CONTINENT HAS ANY ROLE TO PLAY OR NOT? ########\n",
    "df = data.dropna()\n",
    "\n",
    "groups = df.groupby('User continent')\n",
    "out = {}\n",
    "print(type(groups))\n",
    "for name, group in groups:\n",
    "    temp = group['Score'].value_counts()/group.shape[0]\n",
    "    out[name] = temp\n",
    "df = pd.DataFrame(out)\n",
    "print (df)\n",
    "\n",
    "df.plot.bar(figsize=(15,8),title='Frequency of Score', fontsize=15)\n",
    "\n",
    "###### CONCLUSION: USER FROM eUROPE, NORTH AND SOUTH AMERICA TENDS TO GIVE HIGHER RATING(4 OR 5) IN GENERAL.\n",
    "##### WHILE ASIANS ARE A LITTLE HARDER TO PLEASE. MOST OF THE DENSITY LIES IN RATING=3 OR RATING=4 REGION.\n",
    "\n",
    "##### CANNOT SAY ANYTHING ABOUT AFRICANS AS THE NUMBER OF DATA POINTS WERE LESS IN THAT CASE."
   ]
  },
  {
   "cell_type": "code",
   "execution_count": 31,
   "metadata": {},
   "outputs": [
    {
     "data": {
      "text/plain": [
       "<pandas.core.groupby.DataFrameGroupBy object at 0x11d5e05c0>"
      ]
     },
     "execution_count": 31,
     "metadata": {},
     "output_type": "execute_result"
    }
   ],
   "source": [
    "groups"
   ]
  },
  {
   "cell_type": "code",
   "execution_count": 70,
   "metadata": {},
   "outputs": [
    {
     "name": "stdout",
     "output_type": "stream",
     "text": [
      "        big    medium     small\n",
      "1  0.024306  0.020833       NaN\n",
      "2  0.069444  0.041667  0.083333\n",
      "3  0.145833  0.166667  0.250000\n",
      "4  0.326389  0.322917  0.291667\n",
      "5  0.434028  0.447917  0.375000\n"
     ]
    },
    {
     "data": {
      "text/plain": [
       "<matplotlib.axes._subplots.AxesSubplot at 0x7f2f443a1450>"
      ]
     },
     "execution_count": 70,
     "metadata": {},
     "output_type": "execute_result"
    },
    {
     "data": {
      "image/png": "[encoded data removed]",
      "text/plain": [
       "<matplotlib.figure.Figure at 0x7f2f43ea4510>"
      ]
     },
     "metadata": {},
     "output_type": "display_data"
    }
   ],
   "source": [
    "###  1. DOES SIZE OF HOTEL HAS ANY ROLE TO PLAY OR NOT? ########\n",
    "df = data.dropna()\n",
    "df['No. of rooms'].unique()\n",
    "\n",
    "def classify_hotel(x):\n",
    "    if x<=500:\n",
    "        return 'small'\n",
    "    elif x>500 and x<=1500:\n",
    "        return 'medium'\n",
    "    else:\n",
    "        return 'big'\n",
    "    \n",
    "df['Hotel size'] = df['No. of rooms'].apply(lambda x: classify_hotel(x))\n",
    "groups = df.groupby('Hotel size')\n",
    "out = {}\n",
    "for name, group in groups:\n",
    "    temp = group['Score'].value_counts()/group.shape[0]\n",
    "    out[name] = temp\n",
    "df = pd.DataFrame(out)\n",
    "print df\n",
    "\n",
    "df.plot.bar(figsize=(15,8),title='Frequency of Score', fontsize=15)\n",
    "\n",
    "\n",
    "#### ONLY SIGNIFICANT OBSERVATION CAN BE THAT SMALL HOTELS DO NOT GENERALLY ATTRACT VERY LOW RATINGS."
   ]
  },
  {
   "cell_type": "code",
   "execution_count": 71,
   "metadata": {},
   "outputs": [
    {
     "name": "stdout",
     "output_type": "stream",
     "text": [
      "          3         4         5\n",
      "1  0.017857  0.020833  0.026042\n",
      "2  0.059524  0.083333  0.041667\n",
      "3  0.196429  0.187500  0.062500\n",
      "4  0.333333  0.402778  0.260417\n",
      "5  0.392857  0.305556  0.609375\n"
     ]
    },
    {
     "data": {
      "text/plain": [
       "<matplotlib.axes._subplots.AxesSubplot at 0x7f2f43f48d10>"
      ]
     },
     "execution_count": 71,
     "metadata": {},
     "output_type": "execute_result"
    },
    {
     "data": {
      "image/png": "[encoded data removed]",
      "text/plain": [
       "<matplotlib.figure.Figure at 0x7f2f43f4eb10>"
      ]
     },
     "metadata": {},
     "output_type": "display_data"
    }
   ],
   "source": [
    "###  1. DOES TYPE OF HOTEL HAS ANY ROLE TO PLAY OR NOT? ########\n",
    "df = data.copy()\n",
    "\n",
    "groups = df.groupby('Hotel stars')\n",
    "out = {}\n",
    "for name, group in groups:\n",
    "    temp = group['Score'].value_counts()/group.shape[0]\n",
    "    out[name] = temp\n",
    "df = pd.DataFrame(out)\n",
    "print df\n",
    "\n",
    "df.plot.bar(figsize=(15,8),title='Frequency of Score', fontsize=15)\n",
    "\n",
    "\n",
    "##### CLEAR EVIDENCE THAT 5-STAR HOTELS RARELY GET LOW RATINGS. THE PERCENTAGE OF RATINGS=5 IS MORE THAN 50%\n",
    "##### THAT INDICATES, USERS TEND TO RATE 5 STAR HOTELS WITH RATING=5"
   ]
  },
  {
   "cell_type": "code",
   "execution_count": 75,
   "metadata": {},
   "outputs": [
    {
     "name": "stdout",
     "output_type": "stream",
     "text": [
      "   No internet  Internet\n",
      "1     0.041667  0.020833\n",
      "2     0.208333  0.052083\n",
      "3     0.250000  0.137500\n",
      "4     0.416667  0.320833\n",
      "5     0.083333  0.468750\n"
     ]
    },
    {
     "data": {
      "text/plain": [
       "<matplotlib.axes._subplots.AxesSubplot at 0x7f2f43a9b950>"
      ]
     },
     "execution_count": 75,
     "metadata": {},
     "output_type": "execute_result"
    },
    {
     "data": {
      "image/png": "[encoded data removed]",
      "text/plain": [
       "<matplotlib.figure.Figure at 0x7f2f439cfb10>"
      ]
     },
     "metadata": {},
     "output_type": "display_data"
    }
   ],
   "source": [
    "###  1. DOES AMENITIES AT HOTEL MATTER OR NOT? ########\n",
    "\n",
    "### a) Free Internet\n",
    "\n",
    "df = data.copy()\n",
    "\n",
    "groups = df.groupby('Free internet')\n",
    "out = {}\n",
    "for name, group in groups:\n",
    "    temp = group['Score'].value_counts()/group.shape[0]\n",
    "    out[name] = temp\n",
    "df = pd.DataFrame(out)\n",
    "df.columns = ['No internet', 'Internet']\n",
    "print df\n",
    "df.plot.bar(figsize=(15,8),title='Frequency of Score', fontsize=15)\n",
    "\n",
    "\n",
    "\n",
    "######### CLEAR EVIDENCE THAT USERS DO LIKE HAVING FREE INTERNET. IN CASE, YOU WANT TO OPEN A HOTEL\n",
    "######### DO PROVIDE FREE INTERNET IF YOU WANT TO ATTRACT 5 RATING. "
   ]
  },
  {
   "cell_type": "code",
   "execution_count": 77,
   "metadata": {},
   "outputs": [
    {
     "name": "stdout",
     "output_type": "stream",
     "text": [
      "   No Casino    Casino\n",
      "1        NaN  0.024123\n",
      "2   0.041667  0.061404\n",
      "3   0.187500  0.138158\n",
      "4   0.333333  0.324561\n",
      "5   0.437500  0.451754\n"
     ]
    },
    {
     "data": {
      "text/plain": [
       "<matplotlib.axes._subplots.AxesSubplot at 0x7f2f438f7e10>"
      ]
     },
     "execution_count": 77,
     "metadata": {},
     "output_type": "execute_result"
    },
    {
     "data": {
      "image/png": "[encoded data removed]",
      "text/plain": [
       "<matplotlib.figure.Figure at 0x7f2f43941510>"
      ]
     },
     "metadata": {},
     "output_type": "display_data"
    }
   ],
   "source": [
    "### a) Availability of Casino\n",
    "\n",
    "df = data.copy()\n",
    "\n",
    "groups = df.groupby('Casino')\n",
    "out = {}\n",
    "for name, group in groups:\n",
    "    temp = group['Score'].value_counts()/group.shape[0]\n",
    "    out[name] = temp\n",
    "df = pd.DataFrame(out)\n",
    "df.columns = ['No Casino', 'Casino']\n",
    "print df\n",
    "df.plot.bar(figsize=(15,8),title='Frequency of Score', fontsize=15)\n",
    "\n",
    "######## WE CAN SAY THAT PRESENCE OF CASINO DOESN'T REALLY AFFECT THE REVIEWS RECEIVED BY THE HOTEL "
   ]
  },
  {
   "cell_type": "code",
   "execution_count": 78,
   "metadata": {},
   "outputs": [
    {
     "name": "stdout",
     "output_type": "stream",
     "text": [
      "     No spa       spa\n",
      "5  0.408333  0.463542\n",
      "4  0.333333  0.322917\n",
      "3  0.166667  0.135417\n",
      "2  0.066667  0.057292\n",
      "1  0.025000  0.020833\n"
     ]
    },
    {
     "data": {
      "text/plain": [
       "<matplotlib.axes._subplots.AxesSubplot at 0x7f2f437eb710>"
      ]
     },
     "execution_count": 78,
     "metadata": {},
     "output_type": "execute_result"
    },
    {
     "data": {
      "image/png": "[encoded data removed]",
      "text/plain": [
       "<matplotlib.figure.Figure at 0x7f2f43805e50>"
      ]
     },
     "metadata": {},
     "output_type": "display_data"
    }
   ],
   "source": [
    "### a) Availability of Spa\n",
    "\n",
    "df = data.copy()\n",
    "\n",
    "groups = df.groupby('Spa')\n",
    "out = {}\n",
    "for name, group in groups:\n",
    "    temp = group['Score'].value_counts()/group.shape[0]\n",
    "    out[name] = temp\n",
    "df = pd.DataFrame(out)\n",
    "df.columns = ['No spa', 'spa']\n",
    "print df\n",
    "df.plot.bar(figsize=(15,8),title='Frequency of Score', fontsize=15)\n",
    "\n",
    "\n",
    "########## NOT A VERY CLEAR INDICATOR OF HIGHER RATING "
   ]
  },
  {
   "cell_type": "code",
   "execution_count": 79,
   "metadata": {},
   "outputs": [
    {
     "name": "stdout",
     "output_type": "stream",
     "text": [
      "     No gym       gym\n",
      "5  0.500000  0.447917\n",
      "4  0.250000  0.329167\n",
      "3  0.125000  0.143750\n",
      "2  0.083333  0.058333\n",
      "1  0.041667  0.020833\n"
     ]
    },
    {
     "data": {
      "text/plain": [
       "<matplotlib.axes._subplots.AxesSubplot at 0x7f2f43799a50>"
      ]
     },
     "execution_count": 79,
     "metadata": {},
     "output_type": "execute_result"
    },
    {
     "data": {
      "image/png": "[encoded data removed]",
      "text/plain": [
       "<matplotlib.figure.Figure at 0x7f2f436eeb10>"
      ]
     },
     "metadata": {},
     "output_type": "display_data"
    }
   ],
   "source": [
    "### a) Availability of gYM\n",
    "\n",
    "df = data.copy()\n",
    "\n",
    "groups = df.groupby('Gym')\n",
    "out = {}\n",
    "for name, group in groups:\n",
    "    temp = group['Score'].value_counts()/group.shape[0]\n",
    "    out[name] = temp\n",
    "df = pd.DataFrame(out)\n",
    "df.columns = ['No gym', 'gym']\n",
    "print df\n",
    "df.plot.bar(figsize=(15,8),title='Frequency of Score', fontsize=15)\n",
    "\n",
    "########## NOT A VERY CLEAR INDICATOR OF HIGHER RATING "
   ]
  },
  {
   "cell_type": "code",
   "execution_count": 85,
   "metadata": {},
   "outputs": [
    {
     "name": "stdout",
     "output_type": "stream",
     "text": [
      "   No Tennis  Tennis court\n",
      "5   0.442708      0.475000\n",
      "4   0.322917      0.333333\n",
      "3   0.138021      0.158333\n",
      "2   0.070312      0.025000\n",
      "1   0.026042      0.008333\n",
      "\n",
      "\n",
      "Checking if Tennis court is a regular trend in 5-star hotels or not?\n",
      "Group:  No tennis\n",
      "5    168\n",
      "3    120\n",
      "4     96\n",
      "Name: Hotel stars, dtype: int64\n",
      "Group:  tennis\n",
      "4    48\n",
      "3    48\n",
      "5    24\n",
      "Name: Hotel stars, dtype: int64\n",
      "No, it is not\n"
     ]
    },
    {
     "data": {
      "image/png": "[encoded data removed]",
      "text/plain": [
       "<matplotlib.figure.Figure at 0x7f2f43236790>"
      ]
     },
     "metadata": {},
     "output_type": "display_data"
    }
   ],
   "source": [
    "### a) Availability of Tennis court\n",
    "\n",
    "df = data.copy()\n",
    "\n",
    "groups = df.groupby('Tennis court')\n",
    "out = {}\n",
    "for name, group in groups:\n",
    "    temp = group['Score'].value_counts()/group.shape[0]\n",
    "    out[name] = temp\n",
    "df = pd.DataFrame(out)\n",
    "df.columns = ['No Tennis', 'Tennis court']\n",
    "print df\n",
    "df.plot.bar(figsize=(15,8),title='Frequency of Score', fontsize=15)\n",
    "\n",
    "############ Is there any relation between Hotel type and presence of tennis court? \n",
    "\n",
    "print \"\\n\\nChecking if Tennis court is a regular trend in 5-star hotels or not?\"\n",
    "for name, group in groups:\n",
    "    temp = group['Hotel stars']\n",
    "    print \"Group: \", (\"No tennis\" if name ==0 else \"tennis\")\n",
    "    print temp.value_counts()\n",
    "print \"No, it is not\"\n",
    "\n",
    "########## ALSO, PRESENCE OF TENNIS COURT DOESN'T IS NOT GENERALLY A SIGN OF FETCHING A HIGHER RATING "
   ]
  },
  {
   "cell_type": "code",
   "execution_count": 88,
   "metadata": {},
   "outputs": [
    {
     "name": "stdout",
     "output_type": "stream",
     "text": [
      "    No Pool      Pool\n",
      "1  0.083333  0.018750\n",
      "2  0.166667  0.054167\n",
      "3  0.291667  0.135417\n",
      "4  0.375000  0.322917\n",
      "5  0.083333  0.468750\n",
      "\n",
      "\n",
      "Checking if pool is a regular trend in 5-star hotels or not?\n",
      "Group:  No pool\n",
      "3    24\n",
      "Name: Hotel stars, dtype: int64\n",
      "Group:  pool\n",
      "5    192\n",
      "4    144\n",
      "3    144\n",
      "Name: Hotel stars, dtype: int64\n",
      "No, it is not\n"
     ]
    },
    {
     "data": {
      "image/png": "[encoded data removed]",
      "text/plain": [
       "<matplotlib.figure.Figure at 0x7f2f42e0f490>"
      ]
     },
     "metadata": {},
     "output_type": "display_data"
    }
   ],
   "source": [
    "### a) Availability of Pool\n",
    "\n",
    "df = data.copy()\n",
    "\n",
    "groups = df.groupby('Pool')\n",
    "out = {}\n",
    "for name, group in groups:\n",
    "    temp = group['Score'].value_counts()/group.shape[0]\n",
    "    out[name] = temp\n",
    "df = pd.DataFrame(out)\n",
    "df.columns = ['No Pool', 'Pool']\n",
    "print df\n",
    "df.plot.bar(figsize=(15,8),title='Frequency of Score', fontsize=15)\n",
    "\n",
    "######### CLEAR EVIDENCE THAT USERS DO LIKE HAVING POOL IN THEIR HOTELS. \n",
    "######### HAVING POOL IN A HOTEL INCREASES YOUR CHANCES OF GETTING A 5 RATING.\n",
    "\n",
    "\n",
    "############ Is there any relation between Hotel type and presence of POOL? \n",
    "\n",
    "print \"\\n\\nChecking if pool is a regular trend in 5-star hotels or not?\"\n",
    "for name, group in groups:\n",
    "    temp = group['Hotel stars']\n",
    "    print \"Group: \", (\"No pool\" if name ==0 else \"pool\")\n",
    "    print temp.value_counts()\n",
    "print \"Yes, it is.\"\n",
    "######### AS 5 STAR HOTELS FETCH MORE NUMBER OF 5 RATING, WE CAN SAY THAT POOL DOES HAVE AN IMPORTANT ROLE TO PLAY\n"
   ]
  },
  {
   "cell_type": "code",
   "execution_count": 89,
   "metadata": {},
   "outputs": [
    {
     "name": "stdout",
     "output_type": "stream",
     "text": [
      "   Business   Couples  Families   Friends      Solo\n",
      "1  0.040541  0.018692  0.018182  0.012195  0.041667\n",
      "2  0.067568  0.056075  0.081818  0.024390  0.083333\n",
      "3  0.175676  0.107477  0.200000  0.134146  0.125000\n",
      "4  0.405405  0.308411  0.263636  0.353659  0.416667\n",
      "5  0.310811  0.509346  0.436364  0.475610  0.333333\n"
     ]
    },
    {
     "data": {
      "text/plain": [
       "<matplotlib.axes._subplots.AxesSubplot at 0x7f2f42f95c10>"
      ]
     },
     "execution_count": 89,
     "metadata": {},
     "output_type": "execute_result"
    },
    {
     "data": {
      "image/png": "[encoded data removed]",
      "text/plain": [
       "<matplotlib.figure.Figure at 0x7f2f42e3cb90>"
      ]
     },
     "metadata": {},
     "output_type": "display_data"
    }
   ],
   "source": [
    "###  1. DOES A PARTICULAR TRAVELER TYPE GIVES HIGHER RATING? ########\n",
    "\n",
    "df = data.copy()\n",
    "\n",
    "groups = df.groupby('Traveler type')\n",
    "out = {}\n",
    "for name, group in groups:\n",
    "    temp = group['Score'].value_counts()/group.shape[0]\n",
    "    out[name] = temp\n",
    "df = pd.DataFrame(out)\n",
    "print df\n",
    "df.plot.bar(figsize=(15,8),title='Frequency of Score', fontsize=15)\n",
    "\n",
    "##### EVIDENCE THAT COUPLES MOSTLY TEND TO GIVE HIGHER RATING(4 OR 5)(MOST OF THE DENSITY IN THESE 2).\n",
    "##### FRIENDS ALSO IN GENERALY REFRAIN FROM GIVING HIGHER RATING\n",
    "##### WE CAN SAY THAT A BIAS OF COMPANY(COUPLE AND FRIENDS) THAT MAY HAVE MADE THEIR STAY MORE FUN AND THAT'S WHY WE SEE\n",
    "##### HIGHER RATINGS FROM THESE 2 GROUPS\n",
    "\n",
    "##### ALSO, PEOPLE TRAVELING FOR BUSINESS PURPOSES OR SOLO ARE HARD TO PLEASE, AS MOST OF THE DENSITY LIES FOR RATING=4. \n",
    "##### AND, THESE 2 GROUPS HAVE THE HIGHES PERCENTAGE FOR RATING=1"
   ]
  },
  {
   "cell_type": "code",
   "execution_count": 99,
   "metadata": {},
   "outputs": [
    {
     "data": {
      "image/png": "[encoded data removed]",
      "text/plain": [
       "<matplotlib.figure.Figure at 0x7f2f4265a2d0>"
      ]
     },
     "metadata": {},
     "output_type": "display_data"
    },
    {
     "name": "stdout",
     "output_type": "stream",
     "text": [
      "Histogram: To define groups for reviewing experience\n",
      "    amateur     fresh       pro    rookie\n",
      "1  0.013699  0.072917       NaN  0.011029\n",
      "2  0.041096  0.125000  0.047619  0.044118\n",
      "3  0.150685  0.104167  0.158730  0.150735\n",
      "4  0.410959  0.197917  0.412698  0.327206\n",
      "5  0.383562  0.500000  0.380952  0.466912\n"
     ]
    },
    {
     "data": {
      "text/plain": [
       "<matplotlib.axes._subplots.AxesSubplot at 0x7f2f4244bfd0>"
      ]
     },
     "execution_count": 99,
     "metadata": {},
     "output_type": "execute_result"
    },
    {
     "data": {
      "image/png": "[encoded data removed]",
      "text/plain": [
       "<matplotlib.figure.Figure at 0x7f2f42471350>"
      ]
     },
     "metadata": {},
     "output_type": "display_data"
    }
   ],
   "source": [
    "###  1. ARE REVIEWING EXPERIENCED(USERS WITH MORE SUBMITTED REVIEWS) ARE GOOD CRITICS? ########\n",
    "df = data.copy()\n",
    "ax = df['No. of reviews'].plot.hist(bins = 50, title='Histogram for #Reviews', figsize=(10,8))\n",
    "plt.show()\n",
    "print \"Histogram: To define groups for reviewing experience\"\n",
    "\n",
    "\n",
    "#### LET'S FIRST CLASSIFY THE AGE IN 4 CATEGORIES: ACCORDING TO THE HISTOGRAM\n",
    "#### 0-10 : FRESH JOIN\n",
    "#### 10-50 : ROOKIE\n",
    "#### 50-100 : AMATEUR\n",
    "#### >100 : PRO\n",
    "\n",
    "def user_exp(x):\n",
    "    if(x>=0 and x<10):\n",
    "        return \"fresh\"\n",
    "    elif(x>=10 and x<50):\n",
    "        return \"rookie\"\n",
    "    elif(x>=50 and x<100):\n",
    "        return \"amateur\"\n",
    "    else:\n",
    "        return \"pro\"\n",
    "    \n",
    "df['reviewing exp'] = df['No. of reviews'].apply(lambda x: user_exp(x))\n",
    "\n",
    "groups = df.groupby('reviewing exp')\n",
    "out = {}\n",
    "for name, group in groups:\n",
    "    temp = group['Score'].value_counts()/group.shape[0]\n",
    "    out[name] = temp\n",
    "df = pd.DataFrame(out)\n",
    "print df\n",
    "df.plot.bar(figsize=(15,8),title='Frequency of Score', fontsize=15)\n",
    "\n",
    "##### FROM THE BAR GRAPH, A CLEAR EVIDENCE THAT MOST OF THE FRESH USERS(GIVEN ONLY 0-10 REVIEWS) HAVE A HIGH PROBABILITY\n",
    "##### OF GIVING A RATING=5 THAN ANY OTHER RATING(1,2,3,4)\n",
    "\n",
    "#### ALSO, AS THE REVIEWING EXPERIENCE INCREASES, PEOPLE BECOME MORE CRITIC-LIKE AND TO ATTRACT A 5-RATING IS DIFFICULT\n",
    "#### THAN OBTAINING A 4-RATING."
   ]
  },
  {
   "cell_type": "code",
   "execution_count": 105,
   "metadata": {},
   "outputs": [
    {
     "name": "stdout",
     "output_type": "stream",
     "text": [
      "   Australia    Canada     India   Ireland        UK       USA\n",
      "1        NaN  0.030769       NaN       NaN  0.013889  0.018433\n",
      "2        NaN  0.061538  0.090909       NaN  0.027778  0.073733\n",
      "3   0.111111  0.169231  0.090909  0.076923  0.152778  0.115207\n",
      "4   0.527778  0.246154  0.454545  0.461538  0.347222  0.317972\n",
      "5   0.361111  0.492308  0.363636  0.461538  0.458333  0.474654\n"
     ]
    }
   ],
   "source": [
    "### a) DOES USERS FROM A PARTICULAR COUNTRY GIVES HIGHER RATING? \n",
    "\n",
    "df = data.copy()\n",
    "\n",
    "groups = df.groupby('User country')\n",
    "out = {}\n",
    "###### ONLY CONSIDER THOSE COUNTRIES WHICH HAVE ATLEAST 10 DATA POINTS\n",
    "for name, group in groups:\n",
    "    if(group.shape[0] <10):\n",
    "        continue\n",
    "    temp = group['Score'].value_counts()/group.shape[0]\n",
    "    out[name] = temp\n",
    "df = pd.DataFrame(out)\n",
    "\n",
    "print df\n",
    "\n",
    "#### THIS ACTUALLY SUPPORTS OUR PREVIOUS HYPOTHESIS THAT AMERICAS+EUROPE(TEND TO GIVE HIGHER RATING) WHICH YOU CAN \n",
    "#### CONFIRM FROM CANADA AND USA'S VALUES.\n",
    "\n",
    "#### OCEANIC(AUSTRALIA) AND ASIANS(INDIA) ARE NOT SO GRACIOUS WHEN GIVING RATING AS WELL."
   ]
  },
  {
   "cell_type": "code",
   "execution_count": 150,
   "metadata": {},
   "outputs": [
    {
     "data": {
      "text/html": [
       "<div>\n",
       "<style>\n",
       "    .dataframe thead tr:only-child th {\n",
       "        text-align: right;\n",
       "    }\n",
       "\n",
       "    .dataframe thead th {\n",
       "        text-align: left;\n",
       "    }\n",
       "\n",
       "    .dataframe tbody tr th {\n",
       "        vertical-align: top;\n",
       "    }\n",
       "</style>\n",
       "<table border=\"1\" class=\"dataframe\">\n",
       "  <thead>\n",
       "    <tr style=\"text-align: right;\">\n",
       "      <th></th>\n",
       "      <th>reviewing exp</th>\n",
       "      <th>Traveler type</th>\n",
       "      <th>Pool</th>\n",
       "      <th>Free internet</th>\n",
       "      <th>Hotel stars</th>\n",
       "      <th>User continent</th>\n",
       "      <th>Score</th>\n",
       "    </tr>\n",
       "  </thead>\n",
       "  <tbody>\n",
       "    <tr>\n",
       "      <th>0</th>\n",
       "      <td>rookie</td>\n",
       "      <td>Friends</td>\n",
       "      <td>0</td>\n",
       "      <td>1</td>\n",
       "      <td>3</td>\n",
       "      <td>North America</td>\n",
       "      <td>5</td>\n",
       "    </tr>\n",
       "    <tr>\n",
       "      <th>1</th>\n",
       "      <td>pro</td>\n",
       "      <td>Business</td>\n",
       "      <td>0</td>\n",
       "      <td>1</td>\n",
       "      <td>3</td>\n",
       "      <td>North America</td>\n",
       "      <td>3</td>\n",
       "    </tr>\n",
       "    <tr>\n",
       "      <th>2</th>\n",
       "      <td>rookie</td>\n",
       "      <td>Families</td>\n",
       "      <td>0</td>\n",
       "      <td>1</td>\n",
       "      <td>3</td>\n",
       "      <td>North America</td>\n",
       "      <td>5</td>\n",
       "    </tr>\n",
       "    <tr>\n",
       "      <th>3</th>\n",
       "      <td>rookie</td>\n",
       "      <td>Friends</td>\n",
       "      <td>0</td>\n",
       "      <td>1</td>\n",
       "      <td>3</td>\n",
       "      <td>Europe</td>\n",
       "      <td>4</td>\n",
       "    </tr>\n",
       "    <tr>\n",
       "      <th>4</th>\n",
       "      <td>fresh</td>\n",
       "      <td>Solo</td>\n",
       "      <td>0</td>\n",
       "      <td>1</td>\n",
       "      <td>3</td>\n",
       "      <td>North America</td>\n",
       "      <td>4</td>\n",
       "    </tr>\n",
       "  </tbody>\n",
       "</table>\n",
       "</div>"
      ],
      "text/plain": [
       "  reviewing exp Traveler type  Pool  Free internet  Hotel stars  \\\n",
       "0        rookie       Friends     0              1            3   \n",
       "1           pro      Business     0              1            3   \n",
       "2        rookie      Families     0              1            3   \n",
       "3        rookie       Friends     0              1            3   \n",
       "4         fresh          Solo     0              1            3   \n",
       "\n",
       "  User continent  Score  \n",
       "0  North America      5  \n",
       "1  North America      3  \n",
       "2  North America      5  \n",
       "3         Europe      4  \n",
       "4  North America      4  "
      ]
     },
     "execution_count": 150,
     "metadata": {},
     "output_type": "execute_result"
    }
   ],
   "source": [
    "#######################   WHOLE DATA VISUALIZATION ###########################\n",
    "\n",
    "### KEEPING SCORE AS CLASS={1,2,3,4,5}, WE WISH TO SEE HOW THE DATA POINTS OF A PARTICULAR INSTANCE ARE DISTRIBUTED IN \n",
    "### THE HYPERSPACE. \n",
    "### WE'LL EMPLOY PCA TO REDUCE THE DIMENSION FROM D->2 TO HAVE A BETTER UNDERSTANDING OF VISUALIZATION. \n",
    "\n",
    "### FIRST LET US SELECT SOME IMPORTANT FEATURES, FROM OUR ABOVE ANALYSIS:\n",
    "#### FEATURES = {REVIEWING EXP, TRAVELER TYPE, POOL, FREE INTERNET, HOTEL STARS, USER CONTINENT}\n",
    "#### CLASSES = {SCORE}\n",
    "\n",
    "df = data.fillna(np.nan)\n",
    "\n",
    "\n",
    "### PROBLEM 1: HANDLE MISSING USER CONTINENTS. \n",
    "temp = data[['User country', 'User continent']].dropna()\n",
    "temp = temp.drop_duplicates()\n",
    "temp = dict(zip(temp['User country'], temp['User continent']))\n",
    "# print temp\n",
    "\n",
    "\n",
    "def fill_missing_user_continent(row):\n",
    "    if(pd.isnull(row['User continent'])):\n",
    "        try:\n",
    "#             print temp[row['User country']]\n",
    "            return temp[row['User country']]\n",
    "        except:\n",
    "            return np.nan\n",
    "    else:\n",
    "        return row['User continent']\n",
    "        \n",
    "\n",
    "df['User continent'] = df.apply(lambda row: fill_missing_user_continent(row), axis=1)\n",
    "\n",
    "\n",
    "### CREATE FEATURE REVIEWING EXP\n",
    "def user_exp(x):\n",
    "    if(x>=0 and x<10):\n",
    "        return \"fresh\"\n",
    "    elif(x>=10 and x<50):\n",
    "        return \"rookie\"\n",
    "    elif(x>=50 and x<100):\n",
    "        return \"amateur\"\n",
    "    else:\n",
    "        return \"pro\"\n",
    "    \n",
    "df['reviewing exp'] = df['No. of reviews'].apply(lambda x: user_exp(x))\n",
    "\n",
    "\n",
    "#########  TRIM DOWN TO FINAL DATA FOR PCA ########\n",
    "features = ['reviewing exp', 'Traveler type','Pool', 'Free internet','Hotel stars','User continent','Score']\n",
    "train = df[features]\n",
    "train.head()\n",
    "\n"
   ]
  },
  {
   "cell_type": "code",
   "execution_count": 151,
   "metadata": {},
   "outputs": [
    {
     "data": {
      "text/html": [
       "<div>\n",
       "<style>\n",
       "    .dataframe thead tr:only-child th {\n",
       "        text-align: right;\n",
       "    }\n",
       "\n",
       "    .dataframe thead th {\n",
       "        text-align: left;\n",
       "    }\n",
       "\n",
       "    .dataframe tbody tr th {\n",
       "        vertical-align: top;\n",
       "    }\n",
       "</style>\n",
       "<table border=\"1\" class=\"dataframe\">\n",
       "  <thead>\n",
       "    <tr style=\"text-align: right;\">\n",
       "      <th></th>\n",
       "      <th>Pool</th>\n",
       "      <th>Free internet</th>\n",
       "      <th>Hotel stars</th>\n",
       "      <th>Score</th>\n",
       "      <th>amateur</th>\n",
       "      <th>fresh</th>\n",
       "      <th>pro</th>\n",
       "      <th>rookie</th>\n",
       "      <th>Business</th>\n",
       "      <th>Couples</th>\n",
       "      <th>Families</th>\n",
       "      <th>Friends</th>\n",
       "      <th>Solo</th>\n",
       "      <th>Africa</th>\n",
       "      <th>Asia</th>\n",
       "      <th>Europe</th>\n",
       "      <th>North America</th>\n",
       "      <th>Oceania</th>\n",
       "      <th>South America</th>\n",
       "    </tr>\n",
       "  </thead>\n",
       "  <tbody>\n",
       "    <tr>\n",
       "      <th>0</th>\n",
       "      <td>0</td>\n",
       "      <td>1</td>\n",
       "      <td>3</td>\n",
       "      <td>5</td>\n",
       "      <td>0</td>\n",
       "      <td>0</td>\n",
       "      <td>0</td>\n",
       "      <td>1</td>\n",
       "      <td>0</td>\n",
       "      <td>0</td>\n",
       "      <td>0</td>\n",
       "      <td>1</td>\n",
       "      <td>0</td>\n",
       "      <td>0</td>\n",
       "      <td>0</td>\n",
       "      <td>0</td>\n",
       "      <td>1</td>\n",
       "      <td>0</td>\n",
       "      <td>0</td>\n",
       "    </tr>\n",
       "    <tr>\n",
       "      <th>1</th>\n",
       "      <td>0</td>\n",
       "      <td>1</td>\n",
       "      <td>3</td>\n",
       "      <td>3</td>\n",
       "      <td>0</td>\n",
       "      <td>0</td>\n",
       "      <td>1</td>\n",
       "      <td>0</td>\n",
       "      <td>1</td>\n",
       "      <td>0</td>\n",
       "      <td>0</td>\n",
       "      <td>0</td>\n",
       "      <td>0</td>\n",
       "      <td>0</td>\n",
       "      <td>0</td>\n",
       "      <td>0</td>\n",
       "      <td>1</td>\n",
       "      <td>0</td>\n",
       "      <td>0</td>\n",
       "    </tr>\n",
       "    <tr>\n",
       "      <th>2</th>\n",
       "      <td>0</td>\n",
       "      <td>1</td>\n",
       "      <td>3</td>\n",
       "      <td>5</td>\n",
       "      <td>0</td>\n",
       "      <td>0</td>\n",
       "      <td>0</td>\n",
       "      <td>1</td>\n",
       "      <td>0</td>\n",
       "      <td>0</td>\n",
       "      <td>1</td>\n",
       "      <td>0</td>\n",
       "      <td>0</td>\n",
       "      <td>0</td>\n",
       "      <td>0</td>\n",
       "      <td>0</td>\n",
       "      <td>1</td>\n",
       "      <td>0</td>\n",
       "      <td>0</td>\n",
       "    </tr>\n",
       "    <tr>\n",
       "      <th>3</th>\n",
       "      <td>0</td>\n",
       "      <td>1</td>\n",
       "      <td>3</td>\n",
       "      <td>4</td>\n",
       "      <td>0</td>\n",
       "      <td>0</td>\n",
       "      <td>0</td>\n",
       "      <td>1</td>\n",
       "      <td>0</td>\n",
       "      <td>0</td>\n",
       "      <td>0</td>\n",
       "      <td>1</td>\n",
       "      <td>0</td>\n",
       "      <td>0</td>\n",
       "      <td>0</td>\n",
       "      <td>1</td>\n",
       "      <td>0</td>\n",
       "      <td>0</td>\n",
       "      <td>0</td>\n",
       "    </tr>\n",
       "    <tr>\n",
       "      <th>4</th>\n",
       "      <td>0</td>\n",
       "      <td>1</td>\n",
       "      <td>3</td>\n",
       "      <td>4</td>\n",
       "      <td>0</td>\n",
       "      <td>1</td>\n",
       "      <td>0</td>\n",
       "      <td>0</td>\n",
       "      <td>0</td>\n",
       "      <td>0</td>\n",
       "      <td>0</td>\n",
       "      <td>0</td>\n",
       "      <td>1</td>\n",
       "      <td>0</td>\n",
       "      <td>0</td>\n",
       "      <td>0</td>\n",
       "      <td>1</td>\n",
       "      <td>0</td>\n",
       "      <td>0</td>\n",
       "    </tr>\n",
       "  </tbody>\n",
       "</table>\n",
       "</div>"
      ],
      "text/plain": [
       "   Pool  Free internet  Hotel stars  Score  amateur  fresh  pro  rookie  \\\n",
       "0     0              1            3      5        0      0    0       1   \n",
       "1     0              1            3      3        0      0    1       0   \n",
       "2     0              1            3      5        0      0    0       1   \n",
       "3     0              1            3      4        0      0    0       1   \n",
       "4     0              1            3      4        0      1    0       0   \n",
       "\n",
       "   Business  Couples  Families  Friends  Solo  Africa  Asia  Europe  \\\n",
       "0         0        0         0        1     0       0     0       0   \n",
       "1         1        0         0        0     0       0     0       0   \n",
       "2         0        0         1        0     0       0     0       0   \n",
       "3         0        0         0        1     0       0     0       1   \n",
       "4         0        0         0        0     1       0     0       0   \n",
       "\n",
       "   North America  Oceania  South America  \n",
       "0              1        0              0  \n",
       "1              1        0              0  \n",
       "2              1        0              0  \n",
       "3              0        0              0  \n",
       "4              1        0              0  "
      ]
     },
     "execution_count": 151,
     "metadata": {},
     "output_type": "execute_result"
    }
   ],
   "source": [
    "# DO ONE-HOT ENCODING ON REVIEWING EXP, TRAVELER TYPE AND USER CONTINENT \n",
    "\n",
    "### one-hot reviewing exp #####\n",
    "one_hot = pd.get_dummies(train['reviewing exp'])\n",
    "train = train.drop('reviewing exp', axis=1)\n",
    "train = train.join(one_hot)\n",
    "\n",
    "### one-hot traveler type #####\n",
    "one_hot = pd.get_dummies(train['Traveler type'])\n",
    "train = train.drop('Traveler type', axis=1)\n",
    "train = train.join(one_hot)\n",
    "\n",
    "\n",
    "#### one-hot user continent ####\n",
    "one_hot = pd.get_dummies(train['User continent'])\n",
    "train = train.drop('User continent', axis=1)\n",
    "train = train.join(one_hot)\n",
    "\n",
    "\n",
    "train.head()"
   ]
  },
  {
   "cell_type": "code",
   "execution_count": 235,
   "metadata": {},
   "outputs": [
    {
     "name": "stdout",
     "output_type": "stream",
     "text": [
      "         f1        f2  label\n",
      "0 -0.347539  0.007254      5\n",
      "1 -0.361866 -0.183282      3\n",
      "2 -0.360392  0.006577      5\n",
      "3 -0.294810  0.347330      4\n",
      "4 -0.351618 -0.179672      4\n"
     ]
    },
    {
     "data": {
      "text/plain": [
       "<seaborn.axisgrid.FacetGrid at 0x7f2f3579bf50>"
      ]
     },
     "execution_count": 235,
     "metadata": {},
     "output_type": "execute_result"
    },
    {
     "data": {
      "image/png": "[encoded data removed]",
      "text/plain": [
       "<matplotlib.figure.Figure at 0x7f2f3552e810>"
      ]
     },
     "metadata": {},
     "output_type": "display_data"
    }
   ],
   "source": [
    "from sklearn.decomposition import PCA, KernelPCA\n",
    "\n",
    "\n",
    "X = train.drop('Score',axis=1)\n",
    "y = train['Score']\n",
    "\n",
    "kpca = KernelPCA(n_components=2, kernel=\"rbf\",gamma=0.08, remove_zero_eig=True)\n",
    "pca = PCA(n_components=2)\n",
    "\n",
    "X_whole = kpca.fit_transform(X)\n",
    "\n",
    "f1 = X_whole[:,0]\n",
    "f2 = X_whole[:, 1]\n",
    "\n",
    "whole_pca_data = list(zip(f1,f2, y))\n",
    "whole_pca = pd.DataFrame(whole_pca_data, columns=['f1','f2','label'])\n",
    "    \n",
    "print whole_pca.head()\n",
    "\n",
    "sns.lmplot(x=\"f1\", y=\"f2\", hue=\"label\", data=whole_pca, fit_reg=False, aspect=2.6)\n",
    "\n",
    "\n",
    "############## IMPORTANT OBSERVATION: EVEN THOUGH, WE BROUGHT DOWN THE DIMENSION FROM N->2, WE CAN STILL SEE THAT THE \n",
    "####### CLASS = 5(RATING) IS CLEARLY SEPARABLE IN A PARTICULAR REGION IN THE HYPERSPACE. THIS GIVES US AN INTUITION \n",
    "#### THAT CAN BE A DEFINITE DECISION BOUNDARY BETWEEN THE CLASSES. "
   ]
  },
  {
   "cell_type": "code",
   "execution_count": 251,
   "metadata": {},
   "outputs": [
    {
     "data": {
      "text/html": [
       "<div>\n",
       "<style>\n",
       "    .dataframe thead tr:only-child th {\n",
       "        text-align: right;\n",
       "    }\n",
       "\n",
       "    .dataframe thead th {\n",
       "        text-align: left;\n",
       "    }\n",
       "\n",
       "    .dataframe tbody tr th {\n",
       "        vertical-align: top;\n",
       "    }\n",
       "</style>\n",
       "<table border=\"1\" class=\"dataframe\">\n",
       "  <thead>\n",
       "    <tr style=\"text-align: right;\">\n",
       "      <th></th>\n",
       "      <th>No. of reviews</th>\n",
       "      <th>No. of hotel reviews</th>\n",
       "      <th>Helpful votes</th>\n",
       "      <th>Pool</th>\n",
       "      <th>Gym</th>\n",
       "      <th>Tennis court</th>\n",
       "      <th>Spa</th>\n",
       "      <th>Casino</th>\n",
       "      <th>Free internet</th>\n",
       "      <th>Hotel stars</th>\n",
       "      <th>...</th>\n",
       "      <th>Couples</th>\n",
       "      <th>Families</th>\n",
       "      <th>Friends</th>\n",
       "      <th>Solo</th>\n",
       "      <th>Africa</th>\n",
       "      <th>Asia</th>\n",
       "      <th>Europe</th>\n",
       "      <th>North America</th>\n",
       "      <th>Oceania</th>\n",
       "      <th>South America</th>\n",
       "    </tr>\n",
       "  </thead>\n",
       "  <tbody>\n",
       "    <tr>\n",
       "      <th>0</th>\n",
       "      <td>11</td>\n",
       "      <td>4</td>\n",
       "      <td>13</td>\n",
       "      <td>0</td>\n",
       "      <td>1</td>\n",
       "      <td>0</td>\n",
       "      <td>0</td>\n",
       "      <td>1</td>\n",
       "      <td>1</td>\n",
       "      <td>3</td>\n",
       "      <td>...</td>\n",
       "      <td>0</td>\n",
       "      <td>0</td>\n",
       "      <td>1</td>\n",
       "      <td>0</td>\n",
       "      <td>0</td>\n",
       "      <td>0</td>\n",
       "      <td>0</td>\n",
       "      <td>1</td>\n",
       "      <td>0</td>\n",
       "      <td>0</td>\n",
       "    </tr>\n",
       "    <tr>\n",
       "      <th>1</th>\n",
       "      <td>119</td>\n",
       "      <td>21</td>\n",
       "      <td>75</td>\n",
       "      <td>0</td>\n",
       "      <td>1</td>\n",
       "      <td>0</td>\n",
       "      <td>0</td>\n",
       "      <td>1</td>\n",
       "      <td>1</td>\n",
       "      <td>3</td>\n",
       "      <td>...</td>\n",
       "      <td>0</td>\n",
       "      <td>0</td>\n",
       "      <td>0</td>\n",
       "      <td>0</td>\n",
       "      <td>0</td>\n",
       "      <td>0</td>\n",
       "      <td>0</td>\n",
       "      <td>1</td>\n",
       "      <td>0</td>\n",
       "      <td>0</td>\n",
       "    </tr>\n",
       "    <tr>\n",
       "      <th>2</th>\n",
       "      <td>36</td>\n",
       "      <td>9</td>\n",
       "      <td>25</td>\n",
       "      <td>0</td>\n",
       "      <td>1</td>\n",
       "      <td>0</td>\n",
       "      <td>0</td>\n",
       "      <td>1</td>\n",
       "      <td>1</td>\n",
       "      <td>3</td>\n",
       "      <td>...</td>\n",
       "      <td>0</td>\n",
       "      <td>1</td>\n",
       "      <td>0</td>\n",
       "      <td>0</td>\n",
       "      <td>0</td>\n",
       "      <td>0</td>\n",
       "      <td>0</td>\n",
       "      <td>1</td>\n",
       "      <td>0</td>\n",
       "      <td>0</td>\n",
       "    </tr>\n",
       "    <tr>\n",
       "      <th>3</th>\n",
       "      <td>14</td>\n",
       "      <td>7</td>\n",
       "      <td>14</td>\n",
       "      <td>0</td>\n",
       "      <td>1</td>\n",
       "      <td>0</td>\n",
       "      <td>0</td>\n",
       "      <td>1</td>\n",
       "      <td>1</td>\n",
       "      <td>3</td>\n",
       "      <td>...</td>\n",
       "      <td>0</td>\n",
       "      <td>0</td>\n",
       "      <td>1</td>\n",
       "      <td>0</td>\n",
       "      <td>0</td>\n",
       "      <td>0</td>\n",
       "      <td>1</td>\n",
       "      <td>0</td>\n",
       "      <td>0</td>\n",
       "      <td>0</td>\n",
       "    </tr>\n",
       "    <tr>\n",
       "      <th>4</th>\n",
       "      <td>5</td>\n",
       "      <td>5</td>\n",
       "      <td>2</td>\n",
       "      <td>0</td>\n",
       "      <td>1</td>\n",
       "      <td>0</td>\n",
       "      <td>0</td>\n",
       "      <td>1</td>\n",
       "      <td>1</td>\n",
       "      <td>3</td>\n",
       "      <td>...</td>\n",
       "      <td>0</td>\n",
       "      <td>0</td>\n",
       "      <td>0</td>\n",
       "      <td>1</td>\n",
       "      <td>0</td>\n",
       "      <td>0</td>\n",
       "      <td>0</td>\n",
       "      <td>1</td>\n",
       "      <td>0</td>\n",
       "      <td>0</td>\n",
       "    </tr>\n",
       "  </tbody>\n",
       "</table>\n",
       "<p>5 rows × 26 columns</p>\n",
       "</div>"
      ],
      "text/plain": [
       "   No. of reviews  No. of hotel reviews  Helpful votes  Pool  Gym  \\\n",
       "0              11                     4             13     0    1   \n",
       "1             119                    21             75     0    1   \n",
       "2              36                     9             25     0    1   \n",
       "3              14                     7             14     0    1   \n",
       "4               5                     5              2     0    1   \n",
       "\n",
       "   Tennis court  Spa  Casino  Free internet  Hotel stars      ...        \\\n",
       "0             0    0       1              1            3      ...         \n",
       "1             0    0       1              1            3      ...         \n",
       "2             0    0       1              1            3      ...         \n",
       "3             0    0       1              1            3      ...         \n",
       "4             0    0       1              1            3      ...         \n",
       "\n",
       "   Couples  Families  Friends  Solo  Africa  Asia  Europe  North America  \\\n",
       "0        0         0        1     0       0     0       0              1   \n",
       "1        0         0        0     0       0     0       0              1   \n",
       "2        0         1        0     0       0     0       0              1   \n",
       "3        0         0        1     0       0     0       1              0   \n",
       "4        0         0        0     1       0     0       0              1   \n",
       "\n",
       "   Oceania  South America  \n",
       "0        0              0  \n",
       "1        0              0  \n",
       "2        0              0  \n",
       "3        0              0  \n",
       "4        0              0  \n",
       "\n",
       "[5 rows x 26 columns]"
      ]
     },
     "execution_count": 251,
     "metadata": {},
     "output_type": "execute_result"
    }
   ],
   "source": [
    "########### FINALLY LET'S APPLY LASSO REGRESSION, TO KNOW WHAT ARE THE REDUNDANT FEATURES AND WHICH FEATURES ARE \n",
    "########## IMPORTANT? \n",
    "\n",
    "features = ['No. of reviews', 'No. of hotel reviews', 'Helpful votes','Traveler type','Pool', 'Gym','Tennis court', \n",
    "               'Spa','Casino','Free internet','Hotel stars','User continent','reviewing exp', 'Score']\n",
    "\n",
    "train = df[features]\n",
    "\n",
    "### one-hot reviewing exp #####\n",
    "one_hot = pd.get_dummies(train['reviewing exp'])\n",
    "train = train.drop('reviewing exp', axis=1)\n",
    "train = train.join(one_hot)\n",
    "\n",
    "### one-hot traveler type #####\n",
    "one_hot = pd.get_dummies(train['Traveler type'])\n",
    "train = train.drop('Traveler type', axis=1)\n",
    "train = train.join(one_hot)\n",
    "\n",
    "\n",
    "#### one-hot user continent ####\n",
    "one_hot = pd.get_dummies(train['User continent'])\n",
    "train = train.drop('User continent', axis=1)\n",
    "train = train.join(one_hot)\n",
    "train.head()\n"
   ]
  },
  {
   "cell_type": "code",
   "execution_count": 257,
   "metadata": {},
   "outputs": [
    {
     "name": "stdout",
     "output_type": "stream",
     "text": [
      "No. of reviews -0.00102032621534\n",
      "No. of hotel reviews 0.00139730069318\n",
      "Helpful votes 0.000847818802896\n",
      "Pool 0.499545465687\n",
      "Gym 0.0\n",
      "Tennis court 0.0476967419856\n",
      "Spa -0.036709747684\n",
      "Casino -0.0\n",
      "Free internet 0.526408690629\n",
      "Hotel stars 0.141716953528\n",
      "amateur -0.0\n",
      "fresh -0.138385688106\n",
      "pro 0.0\n",
      "rookie 0.0\n",
      "Business -0.115634241844\n",
      "Couples 0.108117726672\n",
      "Families -0.0\n",
      "Friends 0.0883358415357\n",
      "Solo -0.0\n",
      "Africa -0.0\n",
      "Asia -0.11720299827\n",
      "Europe 0.0\n",
      "North America 0.00217740915099\n",
      "Oceania 0.0\n",
      "South America 0.0\n"
     ]
    }
   ],
   "source": [
    "############### LASSO REGRESSION ###################\n",
    "\n",
    "from sklearn.linear_model import Lasso\n",
    "\n",
    "clf = Lasso(alpha=0.015)\n",
    "X = train.drop('Score', axis=1)\n",
    "Y = train['Score']\n",
    "clf.fit(X, Y)\n",
    "\n",
    "for i, col in enumerate(X.columns):\n",
    "    print col, clf.coef_[i]\n"
   ]
  },
  {
   "cell_type": "code",
   "execution_count": null,
   "metadata": {
    "collapsed": true
   },
   "outputs": [],
   "source": [
    "#################### OBSERVATIONS FROM ABOVE  ##################\n",
    "\n",
    "## 1. FEATURES HAVING beta~0 (i.e WHICH DOESN'T SEEM IMPORTANT ARE):\n",
    "##  No. of reviews, No. of hotel reviews, Helpful votes, Gym, Casino, amateur_reviewing exp, pro_reviewing exp\n",
    "## rookie_reviewing exp, Families_traveler type, Solo_traveler type, African, European, Oceanic and South American continent\n",
    "\n",
    "### THE RESULTS GO WITH OUR ANALYSIS THAT \n",
    "### GYM, CASINO WERE NOT IMPORTANT FEATURES\n",
    "\n",
    "\n",
    "## 2. FEATURES WITH NON-0 beta VALUES. SUPPORTS OUR INITIAL ANALYSIS\n",
    "## POOL, AND FREE INTERNET ARE VERY IMPORTANT AMENITIES.\n",
    "## HOTEL STARS DO PLAY AN IMPORTANT ROLE IN GETTING 5 RATING.\n",
    "## COUPLES AND FRIENDS MAY HAVE A BIAS WHILE RATING AND THUS THESE ARE NOT ZEROS\n",
    "## ASIANS ARE HARD TO PLEASE. \n",
    "## FRESH REVIEWING EXP(0-10 REVIEWS) GENERALL TEND TO GIVE HIGHER RATING. \n",
    "\n",
    "# THUS THE ABOVE MODEL IS IN ACCORDANCE WITH OUR INITIAL ANALYSIS. \n"
   ]
  }
 ],
 "metadata": {
  "kernelspec": {
   "display_name": "Python 3",
   "language": "python",
   "name": "python3"
  },
  "language_info": {
   "codemirror_mode": {
    "name": "ipython",
    "version": 3
   },
   "file_extension": ".py",
   "mimetype": "text/x-python",
   "name": "python",
   "nbconvert_exporter": "python",
   "pygments_lexer": "ipython3",
   "version": "3.6.1"
  }
 },
 "nbformat": 4,
 "nbformat_minor": 2
}
